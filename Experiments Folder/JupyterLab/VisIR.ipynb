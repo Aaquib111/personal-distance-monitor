{
 "cells": [
  {
   "cell_type": "markdown",
   "metadata": {},
   "source": [
    "# Visualizing sensor data from IR Sensor"
   ]
  },
  {
   "cell_type": "code",
   "execution_count": 1,
   "metadata": {},
   "outputs": [],
   "source": [
    "import pandas as pd\n",
    "import matplotlib.pyplot as plt\n",
    "import os\n",
    "import numpy as np"
   ]
  },
  {
   "cell_type": "code",
   "execution_count": 2,
   "metadata": {},
   "outputs": [],
   "source": [
    "FILE = \"E:/Arduino/distance.csv\"\n",
    "df = pd.read_csv(FILE)"
   ]
  },
  {
   "cell_type": "code",
   "execution_count": 3,
   "metadata": {},
   "outputs": [
    {
     "data": {
      "text/html": [
       "<div>\n",
       "<style scoped>\n",
       "    .dataframe tbody tr th:only-of-type {\n",
       "        vertical-align: middle;\n",
       "    }\n",
       "\n",
       "    .dataframe tbody tr th {\n",
       "        vertical-align: top;\n",
       "    }\n",
       "\n",
       "    .dataframe thead th {\n",
       "        text-align: right;\n",
       "    }\n",
       "</style>\n",
       "<table border=\"1\" class=\"dataframe\">\n",
       "  <thead>\n",
       "    <tr style=\"text-align: right;\">\n",
       "      <th></th>\n",
       "      <th>Distance</th>\n",
       "      <th>ObjTemp</th>\n",
       "      <th>AmbTemp</th>\n",
       "    </tr>\n",
       "  </thead>\n",
       "  <tbody>\n",
       "    <tr>\n",
       "      <th>0</th>\n",
       "      <td>1</td>\n",
       "      <td>80.65</td>\n",
       "      <td>79.9</td>\n",
       "    </tr>\n",
       "    <tr>\n",
       "      <th>1</th>\n",
       "      <td>1</td>\n",
       "      <td>80.65</td>\n",
       "      <td>79.9</td>\n",
       "    </tr>\n",
       "    <tr>\n",
       "      <th>2</th>\n",
       "      <td>1</td>\n",
       "      <td>80.65</td>\n",
       "      <td>79.9</td>\n",
       "    </tr>\n",
       "    <tr>\n",
       "      <th>3</th>\n",
       "      <td>1</td>\n",
       "      <td>80.65</td>\n",
       "      <td>79.9</td>\n",
       "    </tr>\n",
       "    <tr>\n",
       "      <th>4</th>\n",
       "      <td>1</td>\n",
       "      <td>80.65</td>\n",
       "      <td>79.9</td>\n",
       "    </tr>\n",
       "  </tbody>\n",
       "</table>\n",
       "</div>"
      ],
      "text/plain": [
       "   Distance  ObjTemp  AmbTemp\n",
       "0         1    80.65     79.9\n",
       "1         1    80.65     79.9\n",
       "2         1    80.65     79.9\n",
       "3         1    80.65     79.9\n",
       "4         1    80.65     79.9"
      ]
     },
     "execution_count": 3,
     "metadata": {},
     "output_type": "execute_result"
    }
   ],
   "source": [
    "df.head()"
   ]
  },
  {
   "cell_type": "markdown",
   "metadata": {},
   "source": [
    "Distances are measured from the base of the IR sensor to the toe of the person. Height of the IR sensor was approx. 3 feet. Object and Ambient temperatures were automatically provided by the IR sensor"
   ]
  },
  {
   "cell_type": "code",
   "execution_count": 4,
   "metadata": {},
   "outputs": [
    {
     "name": "stdout",
     "output_type": "stream",
     "text": [
      "Average object temperature: 78.97573333333267\n",
      "Average ambient temperature: 79.89446666666727\n"
     ]
    }
   ],
   "source": [
    "print('Average object temperature: {}'.format(df['ObjTemp'].mean()))\n",
    "print('Average ambient temperature: {}'.format(df['AmbTemp'].mean()))"
   ]
  },
  {
   "cell_type": "code",
   "execution_count": 5,
   "metadata": {},
   "outputs": [],
   "source": [
    "distance = [1,2,3,4,5,6]\n",
    "avg_obj = []\n",
    "avg_amb = []\n",
    "mean = df['ObjTemp'].mean()\n",
    "obj_mean = [mean,mean,mean,mean,mean,mean]\n",
    "sum1 = 0\n",
    "sum2 = 0\n",
    "for j in range(6):\n",
    "    for i in range(100):\n",
    "        sum1 = sum1 + df['ObjTemp'][i + (j * 100)]\n",
    "        sum2 = sum2 + df['AmbTemp'][i + (j * 100)]\n",
    "    sum1 = sum1/100\n",
    "    sum2 = sum2/100    \n",
    "    avg_obj.append(sum1)\n",
    "    avg_amb.append(sum2)\n",
    "    sum1 = 0\n",
    "    sum2 = 0\n",
    "        "
   ]
  },
  {
   "cell_type": "code",
   "execution_count": 6,
   "metadata": {},
   "outputs": [
    {
     "name": "stdout",
     "output_type": "stream",
     "text": [
      "Average object temp for each distance: [80.81600000000005, 79.49149999999997, 78.82290000000003, 78.32490000000006, 78.29559999999995, 78.10350000000005]\n",
      "Average ambient temp for each distance: [79.86459999999994, 79.88849999999994, 79.89199999999998, 79.86299999999994, 79.8793999999999, 79.9793]\n",
      "Average object temp [78.97573333333267, 78.97573333333267, 78.97573333333267, 78.97573333333267, 78.97573333333267, 78.97573333333267]\n"
     ]
    }
   ],
   "source": [
    "print('Average object temp for each distance: ' + str(avg_obj))\n",
    "print('Average ambient temp for each distance: ' + str(avg_amb))\n",
    "print('Average object temp ' + str(obj_mean))"
   ]
  },
  {
   "cell_type": "code",
   "execution_count": 15,
   "metadata": {},
   "outputs": [
    {
     "data": {
      "image/png": "[encoded data removed]",
      "text/plain": [
       "<Figure size 432x288 with 1 Axes>"
      ]
     },
     "metadata": {
      "needs_background": "light"
     },
     "output_type": "display_data"
    }
   ],
   "source": [
    "plt.plot(distance, avg_obj, label = 'Object Temp')\n",
    "plt.plot(distance, avg_amb, label = 'Ambient Temp')\n",
    "plt.plot(distance, [77.20,77.20,77.20,77.20,77.20,77.20], label = 'Control')\n",
    "plt.legend(loc=\"best\")\n",
    "plt.title('Figure 1: Effect of Distance on Temperature')\n",
    "plt.ylabel('Temperature (F)')\n",
    "plt.xlabel('Distance (Feet)')\n",
    "plt.show()"
   ]
  },
  {
   "cell_type": "code",
   "execution_count": 8,
   "metadata": {},
   "outputs": [],
   "source": [
    "difference = []\n",
    "for i in avg_obj:\n",
    "    difference.append(i - 77.20)"
   ]
  },
  {
   "cell_type": "code",
   "execution_count": 12,
   "metadata": {},
   "outputs": [
    {
     "name": "stdout",
     "output_type": "stream",
     "text": [
      "3.6160000000000423\n",
      "0.12837471927279984\n",
      "2.291499999999971\n",
      "0.18398700967582038\n",
      "1.6229000000000298\n",
      "0.2415469359942341\n",
      "1.1249000000000535\n",
      "0.322546884494001\n",
      "1.0955999999999477\n",
      "0.3293337847064142\n",
      "0.9035000000000508\n",
      "0.3834373512354547\n"
     ]
    }
   ],
   "source": [
    "predicted = []\n",
    "for i in difference:\n",
    "    print(i)\n",
    "    a = (3.73 * i) ** -.789\n",
    "    print(a)\n",
    "    predicted.append(a)"
   ]
  },
  {
   "cell_type": "code",
   "execution_count": 16,
   "metadata": {},
   "outputs": [
    {
     "data": {
      "image/png": "[encoded data removed]",
      "text/plain": [
       "<Figure size 432x288 with 1 Axes>"
      ]
     },
     "metadata": {
      "needs_background": "light"
     },
     "output_type": "display_data"
    }
   ],
   "source": [
    "plt.plot(distance, difference, label = 'Difference')\n",
    "#plt.plot(distance, predicted, label = 'Predicted')\n",
    "plt.legend(loc=\"best\")\n",
    "plt.title('Figure 2: Difference Between Average Object Temp and No Object Temp')\n",
    "plt.ylabel('Difference (F)')\n",
    "plt.xlabel('Distance (Feet)')\n",
    "plt.show()"
   ]
  },
  {
   "cell_type": "markdown",
   "metadata": {},
   "source": [
    "# Angle Measurement"
   ]
  },
  {
   "cell_type": "code",
   "execution_count": null,
   "metadata": {},
   "outputs": [],
   "source": []
  }
 ],
 "metadata": {
  "kernelspec": {
   "display_name": "Python 3",
   "language": "python",
   "name": "python3"
  },
  "language_info": {
   "codemirror_mode": {
    "name": "ipython",
    "version": 3
   },
   "file_extension": ".py",
   "mimetype": "text/x-python",
   "name": "python",
   "nbconvert_exporter": "python",
   "pygments_lexer": "ipython3",
   "version": "3.7.4"
  }
 },
 "nbformat": 4,
 "nbformat_minor": 4
}
